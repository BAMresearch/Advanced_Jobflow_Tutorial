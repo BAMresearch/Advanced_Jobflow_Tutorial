{
 "cells": [
  {
   "cell_type": "markdown",
   "source": [
    "# Tutorial on Automation"
   ],
   "metadata": {
    "collapsed": false
   }
  },
  {
   "cell_type": "markdown",
   "source": [
    "## Jobflow\n",
    "We will use [jobflow](https://github.com/materialsproject/jobflow) to write and execute workflows on our local machines. One can also start these computations on supercomputers.\n"
   ],
   "metadata": {
    "collapsed": false
   }
  },
  {
   "cell_type": "markdown",
   "metadata": {},
   "source": [
    "## Install Software"
   ]
  },
  {
   "cell_type": "markdown",
   "metadata": {},
   "source": [
    "We start by installing all relevant software. We will use jobflow but also two typical software from computational materials science. [ASE](https://gitlab.com/ase/ase) and [pymatgen](https://pymatgen.org/). pymatgen works especially well together with jobflow as both have been developed by the [Materials Project](https://materialsproject.org/)."
   ]
  },
  {
   "cell_type": "code",
   "execution_count": null,
   "metadata": {
    "ExecuteTime": {
     "start_time": "2023-04-06T19:13:59.204378Z",
     "end_time": "2023-04-06T19:14:02.491042Z"
    },
    "pycharm": {
     "is_executing": true
    }
   },
   "outputs": [],
   "source": [
    "%%capture\n",
    "!pip install jobflow"
   ]
  },
  {
   "cell_type": "code",
   "execution_count": null,
   "metadata": {
    "ExecuteTime": {
     "start_time": "2023-04-06T19:14:02.502207Z",
     "end_time": "2023-04-06T19:14:05.708083Z"
    }
   },
   "outputs": [],
   "source": [
    "%%capture\n",
    "!pip install ase"
   ]
  },
  {
   "cell_type": "code",
   "execution_count": null,
   "metadata": {
    "ExecuteTime": {
     "start_time": "2023-04-06T19:14:05.711087Z",
     "end_time": "2023-04-06T19:14:08.968120Z"
    }
   },
   "outputs": [],
   "source": [
    "%%capture\n",
    "!pip install pymatgen"
   ]
  },
  {
   "cell_type": "markdown",
   "metadata": {},
   "source": [
    "## Workflow to compute the equation of state (e.g., to compute a bulk modulus)\n",
    "\n",
    "In this first tutorial, we will build flows and jobs to automatize the computation of the equation of state. This tutorial has been inspired by the equation of state tutorial from ASE: [https://wiki.fysik.dtu.dk/ase/tutorials/eos/eos.html](https://wiki.fysik.dtu.dk/ase/tutorials/eos/eos.html) . Please also check out this nice paper on equations of state: [K. Latimer, S. Dwaraknath, K. Mathew, D. Winston, K. A. Persson, npj Comput Mater 2018, 4, 40.](https://doi.org/10.1038/s41524-018-0091-x) You can use each flavor with the help of pymatgen.\n"
   ]
  },
  {
   "cell_type": "markdown",
   "metadata": {},
   "source": [
    "Let's have a look how we would compute the results without workflow. This is only possible if we have a very fast calculator (i.e., some object to get energies and forces from ab initio theories or force fields) and small unit cells."
   ]
  },
  {
   "cell_type": "markdown",
   "metadata": {},
   "source": [
    "We will start by constructing a simple unit cell with the Atoms object in ASE: Al in fcc structure type. The Atoms object in ASE is used to represent the structure. It can also be directly connected to electronic energies and forces when a calculator is added."
   ]
  },
  {
   "cell_type": "code",
   "execution_count": null,
   "metadata": {
    "ExecuteTime": {
     "start_time": "2023-04-06T19:14:08.972575Z",
     "end_time": "2023-04-06T19:14:09.446089Z"
    }
   },
   "outputs": [],
   "source": [
    "from ase.build import bulk\n",
    "atoms=bulk(\"Ag\",\"fcc\",3.9)"
   ]
  },
  {
   "cell_type": "code",
   "execution_count": null,
   "metadata": {
    "ExecuteTime": {
     "start_time": "2023-04-06T19:14:09.448138Z",
     "end_time": "2023-04-06T19:14:09.454399Z"
    }
   },
   "outputs": [],
   "source": [
    "print(atoms)"
   ]
  },
  {
   "cell_type": "markdown",
   "metadata": {},
   "source": [
    "You can visualize the structure when you uncomment the next lines."
   ]
  },
  {
   "cell_type": "code",
   "execution_count": null,
   "metadata": {
    "ExecuteTime": {
     "start_time": "2023-04-06T19:14:09.455795Z",
     "end_time": "2023-04-06T19:14:09.460177Z"
    }
   },
   "outputs": [],
   "source": [
    "#from ase.visualize import view\n",
    "#view(atoms)"
   ]
  },
  {
   "cell_type": "markdown",
   "metadata": {},
   "source": [
    "Instead of using an ASE Atoms object, we will later on also use Structure objects from pymatgen. They are very handy as they can be easily transformed to dict representations in databases. There are conversion tools available in pymatgen. Let's create a Structure object from an Atoms object. This is now just structural information."
   ]
  },
  {
   "cell_type": "code",
   "execution_count": null,
   "metadata": {
    "ExecuteTime": {
     "start_time": "2023-04-06T19:14:09.463206Z",
     "end_time": "2023-04-06T19:14:09.832901Z"
    }
   },
   "outputs": [],
   "source": [
    "from pymatgen.io.ase import AseAtomsAdaptor\n",
    "\n",
    "structure=AseAtomsAdaptor().get_structure(atoms)\n",
    "print(structure)\n",
    "print(structure.as_dict())"
   ]
  },
  {
   "cell_type": "markdown",
   "metadata": {},
   "source": [
    "### Effective Medium Theory\n",
    "To calculate energies and forces, we will use effective-medium theory as described in [K. W. Jacobsen, J. K. Norskov, M. J. Puska, Phys. Rev. B 1987, 35, 7423–7442.\n",
    "](https://journals.aps.org/prb/abstract/10.1103/PhysRevB.35.7423). This is mainly to be able to perform the computations without high-performance computers and still have somewhat reasonable results for simple solids such as Al.  The method is based on an ansatz that assumes that the total electron density can be expressed as a sum of the electron densities of individual atoms. The electron densities of the individual atoms are calculated separately assuming that each atom is embedded in a homogeneous electron gas. It's not necessary to understand this approximation in detail to perform the exercises. We really just need a simple calculator to get energies and forces... Our typical workflows use DFT.\n"
   ]
  },
  {
   "cell_type": "markdown",
   "metadata": {},
   "source": [
    "Let's add a calculator to the Atoms object."
   ]
  },
  {
   "cell_type": "code",
   "execution_count": null,
   "metadata": {
    "ExecuteTime": {
     "start_time": "2023-04-06T19:14:09.824584Z",
     "end_time": "2023-04-06T19:14:09.833244Z"
    }
   },
   "outputs": [],
   "source": [
    "from ase.calculators.emt import EMT\n",
    "atoms.calc=EMT()"
   ]
  },
  {
   "cell_type": "markdown",
   "metadata": {},
   "source": [
    "### Optimization of the structure\n",
    "We will use a standard optimizer from ASE (BFGS) here to perform the optimization. We add an additional Filter to also optimize the cell parameters and not only the atomic positions."
   ]
  },
  {
   "cell_type": "code",
   "execution_count": null,
   "metadata": {
    "ExecuteTime": {
     "start_time": "2023-04-06T19:14:09.831247Z",
     "end_time": "2023-04-06T19:14:10.216602Z"
    }
   },
   "outputs": [],
   "source": [
    "from ase.optimize import BFGS\n",
    "from ase.constraints import ExpCellFilter\n",
    "print(atoms)\n",
    "opt = BFGS(ExpCellFilter(atoms))\n",
    "opt.run(fmax=0.00001)\n",
    "print(atoms)"
   ]
  },
  {
   "cell_type": "markdown",
   "metadata": {},
   "source": [
    "As you can see the cell parameters have slightly changed. The atomic positions will not really change due to the high symmetry."
   ]
  },
  {
   "cell_type": "code",
   "execution_count": null,
   "metadata": {
    "ExecuteTime": {
     "start_time": "2023-04-06T19:14:10.204267Z",
     "end_time": "2023-04-06T19:14:10.216989Z"
    }
   },
   "outputs": [],
   "source": [
    "print(atoms.calc.results)"
   ]
  },
  {
   "cell_type": "markdown",
   "metadata": {},
   "source": [
    "After this optimization of the structure, we will now scale the cell parameters to get our Energy-Volume curve, i.e. we evaluate the energy at different volumes. We will first get the current cell parameters:"
   ]
  },
  {
   "cell_type": "code",
   "execution_count": null,
   "metadata": {
    "ExecuteTime": {
     "start_time": "2023-04-06T19:14:10.204344Z",
     "end_time": "2023-04-06T19:14:10.217094Z"
    }
   },
   "outputs": [],
   "source": [
    "cell=atoms.get_cell()\n",
    "print(cell)"
   ]
  },
  {
   "cell_type": "markdown",
   "metadata": {},
   "source": [
    "Let's try the scaling:"
   ]
  },
  {
   "cell_type": "code",
   "execution_count": null,
   "metadata": {
    "ExecuteTime": {
     "start_time": "2023-04-06T19:14:10.204418Z",
     "end_time": "2023-04-06T19:14:10.217212Z"
    }
   },
   "outputs": [],
   "source": [
    "new_cell=cell*1.01\n",
    "print(new_cell)\n",
    "print(cell)"
   ]
  },
  {
   "cell_type": "markdown",
   "metadata": {},
   "source": [
    "Now, let's perform the energy volume curve computation. The optimizations that we will perform will now be at constant volume. We will collect the volumes and energies."
   ]
  },
  {
   "cell_type": "code",
   "execution_count": null,
   "metadata": {
    "ExecuteTime": {
     "start_time": "2023-04-06T19:14:10.204458Z",
     "end_time": "2023-04-06T19:14:10.379914Z"
    }
   },
   "outputs": [],
   "source": [
    "import numpy as np\n",
    "from ase.io.trajectory import Trajectory\n",
    "from copy import deepcopy\n",
    "\n",
    "cell = atoms.get_cell()\n",
    "\n",
    "volumes=[]\n",
    "energies=[]\n",
    "for x in [0.95, 0.97, 0.99, 1.00, 1.01, 1.03, 1.05]:\n",
    "    optimized_atoms = deepcopy(atoms)\n",
    "    optimized_atoms.set_cell(cell * x, scale_atoms=True)\n",
    "    opt = BFGS(ExpCellFilter(optimized_atoms, constant_volume=True))\n",
    "    opt.run(fmax=0.00001)\n",
    "    volumes.append(optimized_atoms.get_volume())\n",
    "    energies.append(optimized_atoms.get_potential_energy())\n",
    "\n",
    "print(volumes)\n",
    "print(energies)"
   ]
  },
  {
   "cell_type": "markdown",
   "metadata": {},
   "source": [
    "Let's do a plot of the equation of states now."
   ]
  },
  {
   "cell_type": "code",
   "execution_count": null,
   "metadata": {
    "ExecuteTime": {
     "start_time": "2023-04-06T19:14:10.416209Z",
     "end_time": "2023-04-06T19:14:11.240319Z"
    }
   },
   "outputs": [],
   "source": [
    "from ase.units import kJ\n",
    "from ase.eos import EquationOfState\n",
    "\n",
    "eos = EquationOfState(volumes, energies)\n",
    "v0, e0, B = eos.fit()\n",
    "print(B, 'eV Angstrom**(-3)')\n",
    "print(B / kJ * 1.0e24, 'GPa')\n",
    "eos.plot('Ag-eos.png')"
   ]
  },
  {
   "cell_type": "markdown",
   "metadata": {},
   "source": [
    "This is fine. You can check out the DFT equations of state here: [https://materialsproject.org/materials/mp-124?chemsys=Ag#equations_of_state](https://materialsproject.org/materials/mp-124?chemsys=Ag#equations_of_state) The volume is different by 1 Angstrom³ and Bulk modulus is off by a factor of 10 depending on the equation of state."
   ]
  },
  {
   "cell_type": "markdown",
   "metadata": {},
   "source": [
    "We now have a workflow that looks roughly like this:\n",
    "\n",
    "![Workflow](./workflow.png)"
   ]
  },
  {
   "cell_type": "markdown",
   "metadata": {},
   "source": [
    "Let's work on an atomic job to optimize the structure. We will use a Structure object to carry the structural information as it can be easily transformed into a dict. We need this as we will save our results in databases that build upon the json and yaml format. This is more complicated for an atoms object. Check out [https://materialsproject.github.io/maggma/concepts](maggma) to learn more."
   ]
  },
  {
   "cell_type": "markdown",
   "metadata": {},
   "source": [
    "To write an atomic job in jobflow, we have to inherit from the Maker class and adapt the make method. Please don't forget the decorators as they are central for the execution of the workflow. You can find more about jobs here: [https://materialsproject.github.io/jobflow/tutorials/3-defining-jobs.html](https://materialsproject.github.io/jobflow/tutorials/3-defining-jobs.html)\n",
    "Such a Maker class will also get the decorator @dataclass . This will add special methods to the class. See here for more info: [https://docs.python.org/3/library/dataclasses.html](https://docs.python.org/3/library/dataclasses.html)"
   ]
  },
  {
   "cell_type": "code",
   "execution_count": null,
   "metadata": {
    "ExecuteTime": {
     "start_time": "2023-04-06T19:14:11.244284Z",
     "end_time": "2023-04-06T19:14:11.882742Z"
    }
   },
   "outputs": [],
   "source": [
    "from jobflow.core.maker import Maker"
   ]
  },
  {
   "cell_type": "markdown",
   "metadata": {},
   "source": []
  },
  {
   "cell_type": "code",
   "execution_count": null,
   "metadata": {
    "ExecuteTime": {
     "start_time": "2023-04-06T19:14:11.885416Z",
     "end_time": "2023-04-06T19:14:11.888072Z"
    }
   },
   "outputs": [],
   "source": [
    "from dataclasses import dataclass\n",
    "from jobflow import job, Maker\n",
    "from pymatgen.core.structure import Structure\n",
    "\n",
    "@dataclass\n",
    "class OptimizeJob(Maker):\n",
    "    \"\"\"\n",
    "    Class to carry out a full optimization of a structure with the EMT calculator\n",
    "\n",
    "    Parameters\n",
    "    ----------\n",
    "    name\n",
    "        Name of the job.\n",
    "    \"\"\"\n",
    "    name: str = \"EMT-Optimization\"\n",
    "\n",
    "    @job\n",
    "    def make(self, structure: Structure):\n",
    "        pass"
   ]
  },
  {
   "cell_type": "markdown",
   "metadata": {},
   "source": [
    "We add a \"name\" to the maker which will later on help us identify which job is running. And the make method takes a structure as an input. In the next step, we simply add steps to perform the optimization. Thus, we take the same classes, methods and functions as before:"
   ]
  },
  {
   "cell_type": "code",
   "execution_count": null,
   "metadata": {
    "ExecuteTime": {
     "start_time": "2023-04-06T19:14:11.892950Z",
     "end_time": "2023-04-06T19:14:11.896771Z"
    }
   },
   "outputs": [],
   "source": [
    "from dataclasses import dataclass\n",
    "from jobflow import job\n",
    "from pymatgen.core.structure import Structure\n",
    "\n",
    "\n",
    "@dataclass\n",
    "class OptimizeJob(Maker):\n",
    "    \"\"\"\n",
    "    Class to carry out a full optimization of a structure with the EMT calculator\n",
    "\n",
    "    Parameters\n",
    "    ----------\n",
    "    name\n",
    "        Name of the job.\n",
    "    \"\"\"\n",
    "    name: str = \"EMT-Optimization\"\n",
    "\n",
    "    @job\n",
    "    def make(self, structure: Structure):\n",
    "        adaptor = AseAtomsAdaptor()\n",
    "        atoms = adaptor.get_atoms(structure)  # get an atoms object\n",
    "        atoms.calc = EMT()  # add emt as a calculator\n",
    "\n",
    "        opt = BFGS(ExpCellFilter(atoms))  # optimize the structure including cell parameters\n",
    "        opt.run(fmax=0.00001)  # run the optimization\n"
   ]
  },
  {
   "cell_type": "markdown",
   "metadata": {},
   "source": [
    "We have now optimized our structure. We might want to add fmax as a parameter of our Maker to change the default values. We will not do this for all potential settings as it just takes a lot of time to implement and we just want to find out how it works and not do a lot of work..."
   ]
  },
  {
   "cell_type": "code",
   "execution_count": null,
   "metadata": {
    "ExecuteTime": {
     "start_time": "2023-04-06T19:14:11.903618Z",
     "end_time": "2023-04-06T19:14:11.951828Z"
    }
   },
   "outputs": [],
   "source": [
    "@dataclass\n",
    "class OptimizeJob(Maker):\n",
    "    \"\"\"\n",
    "    Class to carry out a full optimization of a structure with the EMT calculator\n",
    "\n",
    "    Parameters\n",
    "    ----------\n",
    "    name\n",
    "        Name of the job.\n",
    "    fmax\n",
    "        float that determines the forces after optimization\n",
    "    \"\"\"\n",
    "    name: str = \"EMT-Optimization\"\n",
    "    fmax: float = 0.00001\n",
    "\n",
    "    @job\n",
    "    def make(self, structure: Structure):\n",
    "        adaptor = AseAtomsAdaptor()\n",
    "        atoms = adaptor.get_atoms(structure)\n",
    "        atoms.calc = EMT()\n",
    "        opt = BFGS(ExpCellFilter(atoms))\n",
    "        opt.run(fmax=self.fmax)\n"
   ]
  },
  {
   "cell_type": "markdown",
   "metadata": {},
   "source": [
    "So far however, our results will be not transferred between jobs. We need to take care of this next. For now, it will be enough to save the optimized structure and the energy at the end. You can also save forces, stresses and so on... People typically develop very large schema. This is again just a lot of work and will not help us to understand the automation itself. It's again just important that all outputs are either a dict or have the as_dict() method."
   ]
  },
  {
   "cell_type": "code",
   "execution_count": null,
   "metadata": {
    "ExecuteTime": {
     "start_time": "2023-04-06T19:14:11.913025Z",
     "end_time": "2023-04-06T19:14:11.966281Z"
    }
   },
   "outputs": [],
   "source": [
    "@dataclass\n",
    "class OptimizeJob(Maker):\n",
    "    \"\"\"\n",
    "    Class to carry out a full optimization of a structure with the EMT calculator\n",
    "\n",
    "    Parameters\n",
    "    ----------\n",
    "    name\n",
    "        Name of the job.\n",
    "    fmax\n",
    "        float that determines the forces after optimization\n",
    "    \"\"\"\n",
    "    name: str =\"EMT-Optimization\"\n",
    "    fmax: float=0.00001\n",
    "\n",
    "    @job\n",
    "    def make(self, structure: Structure):\n",
    "        adaptor=AseAtomsAdaptor()\n",
    "        atoms=adaptor.get_atoms(structure)\n",
    "        atoms.calc=EMT()\n",
    "        opt = BFGS(ExpCellFilter(atoms))\n",
    "        opt.run(fmax=self.fmax)\n",
    "\n",
    "        out_structure=adaptor.get_structure(atoms)\n",
    "\n",
    "        return out_structure\n",
    "\n"
   ]
  },
  {
   "cell_type": "markdown",
   "metadata": {},
   "source": [
    "We will add another parameter to be able to do a constant volume optimization with the same maker."
   ]
  },
  {
   "cell_type": "code",
   "execution_count": null,
   "metadata": {
    "ExecuteTime": {
     "start_time": "2023-04-06T19:14:11.956238Z",
     "end_time": "2023-04-06T19:14:11.966500Z"
    }
   },
   "outputs": [],
   "source": [
    "@dataclass\n",
    "class OptimizeJob(Maker):\n",
    "    \"\"\"\n",
    "    Class to carry out a full optimization of an atoms object\n",
    "\n",
    "    Parameters\n",
    "    ----------\n",
    "    name\n",
    "        Name of the job.\n",
    "    fmax\n",
    "        float that determines the forces after optimization\n",
    "    constant_volume\n",
    "        bool that if true will enforce an optimization with constant volume\n",
    "    \"\"\"\n",
    "    name: str =\"EMT-Optimization\"\n",
    "    fmax: float=0.00001\n",
    "    constant_volume: bool= False\n",
    "\n",
    "    @job\n",
    "    def make(self, structure: Structure):\n",
    "        adaptor=AseAtomsAdaptor()\n",
    "        atoms=adaptor.get_atoms(structure)\n",
    "        atoms.calc=EMT()\n",
    "        opt = BFGS(ExpCellFilter(atoms, constant_volume=self.constant_volume))\n",
    "        opt.run(fmax=self.fmax)\n",
    "\n",
    "        out_structure=adaptor.get_structure(atoms)\n",
    "\n",
    "        results={}\n",
    "        results[\"optimized_structure\"]=out_structure\n",
    "        results[\"input_structure\"]=structure\n",
    "        results[\"energy\"]=atoms.get_potential_energy()\n",
    "        return results"
   ]
  },
  {
   "cell_type": "markdown",
   "metadata": {},
   "source": [
    "For test purposes, we will simply now chain two optimizations, put them in a Flow (i.e., the object for workflows) and see what happens. We also always have to define an output for the flow. Very often, this is the output of the last job in the flow."
   ]
  },
  {
   "cell_type": "code",
   "execution_count": null,
   "metadata": {
    "ExecuteTime": {
     "start_time": "2023-04-06T19:14:11.956287Z",
     "end_time": "2023-04-06T19:14:12.249177Z"
    }
   },
   "outputs": [],
   "source": [
    "from jobflow.managers.local import run_locally\n",
    "from jobflow import Flow\n",
    "\n",
    "atoms=bulk(\"Ag\",\"fcc\",4)\n",
    "structure=AseAtomsAdaptor().get_structure(atoms)\n",
    "maker_fullopt=OptimizeJob()\n",
    "maker_opt_constant_vol=OptimizeJob(constant_volume=True)\n",
    "job1=maker_fullopt.make(structure=structure)\n",
    "job2=maker_opt_constant_vol.make(structure=job1.output[\"optimized_structure\"])\n",
    "\n",
    "flow=Flow([job1,job2],output=job2.output)\n",
    "\n",
    "response=run_locally(flow)\n",
    "print(response)\n"
   ]
  },
  {
   "cell_type": "markdown",
   "metadata": {},
   "source": [
    "This is nice but of course a bit useless. Btw, you can also create folders for each atomic job in your workflow by using one of the parameters in run_locally."
   ]
  },
  {
   "cell_type": "markdown",
   "metadata": {},
   "source": [
    "We now need to build a job that creates structures with different volumes, runs the optimizations with constant volume, and one job that can assess the results!"
   ]
  },
  {
   "cell_type": "markdown",
   "metadata": {},
   "source": [
    "We will start by using a job that is called get_ev_curve. It will replace itself with a Response object that will start a completely new workflow. As outputs, we will collect all optimized structures and the corresponding energies!"
   ]
  },
  {
   "cell_type": "code",
   "execution_count": null,
   "metadata": {
    "ExecuteTime": {
     "start_time": "2023-04-06T19:14:12.248247Z",
     "end_time": "2023-04-06T19:14:12.249300Z"
    }
   },
   "outputs": [],
   "source": [
    "from jobflow import Response, job\n",
    "\n",
    "\n",
    "@job\n",
    "def get_ev_curve(structure: Structure, volumes=[0.95, 0.97, 0.99, 1.00, 1.01, 1.03, 1.05]):\n",
    "    groundstate_vol = structure.volume\n",
    "    const_vol_maker = OptimizeJob(constant_volume=True)\n",
    "    job_list = []\n",
    "    outputs = {\n",
    "        \"optimized_structures\": [],\n",
    "        \"energies\": [],\n",
    "    }\n",
    "    for vol_inc in volumes:\n",
    "        struct_here = deepcopy(structure)\n",
    "        struct_here.scale_lattice(groundstate_vol * vol_inc)\n",
    "        relax_job = const_vol_maker.make(struct_here)\n",
    "        job_list.append(relax_job)\n",
    "        outputs[\"optimized_structures\"].append(relax_job.output[\"optimized_structure\"])\n",
    "        outputs[\"energies\"].append(relax_job.output[\"energy\"])\n",
    "    return Response(replace=Flow(job_list, output=outputs))\n",
    "\n"
   ]
  },
  {
   "cell_type": "markdown",
   "metadata": {},
   "source": [
    "We can now build a flow including a full optmization and this code to start the constant volume optimizations"
   ]
  },
  {
   "cell_type": "code",
   "execution_count": null,
   "metadata": {
    "ExecuteTime": {
     "start_time": "2023-04-06T19:14:12.296306Z",
     "end_time": "2023-04-06T19:14:12.668823Z"
    }
   },
   "outputs": [],
   "source": [
    "atoms = bulk(\"Ag\", \"fcc\", 4)\n",
    "structure = AseAtomsAdaptor().get_structure(atoms)\n",
    "maker_fullopt = OptimizeJob()\n",
    "maker_opt_constant_vol = OptimizeJob(constant_volume=True)\n",
    "job1 = maker_fullopt.make(structure=structure)\n",
    "job2 = get_ev_curve(structure=job1.output[\"optimized_structure\"])\n",
    "\n",
    "flow = Flow([job1, job2], output=job2.output)\n",
    "\n",
    "response = run_locally(flow)"
   ]
  },
  {
   "cell_type": "markdown",
   "metadata": {},
   "source": [
    "We will now write a tiny job that will collect all results. It will start from a list of structures and energies and then plot an EV curve to a file and return the most important results."
   ]
  },
  {
   "cell_type": "code",
   "execution_count": null,
   "metadata": {
    "ExecuteTime": {
     "start_time": "2023-04-06T19:14:12.712245Z",
     "end_time": "2023-04-06T19:14:12.714770Z"
    }
   },
   "outputs": [],
   "source": [
    "@job\n",
    "def get_results_ev_curve(list_structures, list_energies):\n",
    "    list_volumes = []\n",
    "    for struct in list_structures:\n",
    "        list_volumes.append(struct.volume)\n",
    "\n",
    "    eos = EquationOfState(list_volumes, list_energies)\n",
    "    v0, e0, B = eos.fit()\n",
    "    eos.plot('eos.png')\n",
    "\n",
    "    results = {}\n",
    "    results[\"V0\"] = v0\n",
    "    results[\"e0\"] = e0\n",
    "    results[\"B\"] = B\n",
    "\n",
    "    return Response(results)"
   ]
  },
  {
   "cell_type": "markdown",
   "metadata": {},
   "source": [
    "Now, we will combine all jobs to a larger workflow and check out the output"
   ]
  },
  {
   "cell_type": "code",
   "execution_count": null,
   "metadata": {
    "ExecuteTime": {
     "start_time": "2023-04-06T19:14:12.712352Z",
     "end_time": "2023-04-06T19:14:13.774015Z"
    }
   },
   "outputs": [],
   "source": [
    "atoms = bulk(\"Ag\", \"fcc\", 4)\n",
    "structure = AseAtomsAdaptor().get_structure(atoms)\n",
    "maker_fullopt = OptimizeJob()\n",
    "job1 = maker_fullopt.make(structure=structure)\n",
    "job2 = get_ev_curve(structure=job1.output[\"optimized_structure\"])\n",
    "job3 = get_results_ev_curve(list_structures=job2.output[\"optimized_structures\"], list_energies=job2.output[\"energies\"])\n",
    "flow = Flow([job1, job2, job3], output=job3.output)\n",
    "\n",
    "response = run_locally(flow)\n",
    "print(response[flow.jobs[-1].uuid][1].output)"
   ]
  },
  {
   "cell_type": "markdown",
   "metadata": {},
   "source": [
    "It works. We get the same results!\n"
   ]
  },
  {
   "cell_type": "markdown",
   "metadata": {},
   "source": [
    "I will just show you now how to validate your data with a [pydantic](https://docs.pydantic.dev) schema. This allows to describe your outputs and make sure that you also get all relevant data in the right format. Again, this is only one tiny example. In practice, you would add many more options! This is how such a schema can look in practice: [https://github.com/materialsproject/atomate2/blob/main/src/atomate2/lobster/schemas.py](https://github.com/materialsproject/atomate2/blob/main/src/atomate2/lobster/schemas.py)"
   ]
  },
  {
   "cell_type": "code",
   "execution_count": null,
   "metadata": {
    "ExecuteTime": {
     "start_time": "2023-04-06T19:14:13.773900Z",
     "end_time": "2023-04-06T19:14:13.777599Z"
    }
   },
   "outputs": [],
   "source": [
    "from pydantic import BaseModel, Field\n",
    "\n",
    "\n",
    "class EOS_Schema(BaseModel):\n",
    "    \"\"\"Collection to store computational settings for the phonon computation.\"\"\"\n",
    "\n",
    "    V0: float = Field(\"Volume in Angstrom**3\")\n",
    "    e0: float = Field(\"Energy in eV\")\n",
    "    B: float = Field(\n",
    "        \"Bulk modulus\",\n",
    "    )\n",
    "\n",
    "\n",
    "@job(output_schema=EOS_Schema)\n",
    "def get_results_ev_curve(list_structures, list_energies):\n",
    "    list_volumes = []\n",
    "    for struct in list_structures:\n",
    "        list_volumes.append(struct.volume)\n",
    "\n",
    "    eos = EquationOfState(list_volumes, list_energies)\n",
    "    v0, e0, B = eos.fit()\n",
    "    eos.plot('eos.png')\n",
    "\n",
    "    results = {}\n",
    "    results[\"V0\"] = v0\n",
    "    results[\"e0\"] = e0\n",
    "    results[\"B\"] = B\n",
    "    schema = EOS_Schema(**results)\n",
    "    return Response(schema)"
   ]
  },
  {
   "cell_type": "markdown",
   "metadata": {},
   "source": [
    "let's run the workflow again"
   ]
  },
  {
   "cell_type": "code",
   "execution_count": null,
   "metadata": {
    "ExecuteTime": {
     "start_time": "2023-04-06T19:14:13.780118Z",
     "end_time": "2023-04-06T19:14:14.990710Z"
    }
   },
   "outputs": [],
   "source": [
    "atoms=bulk(\"Ag\",\"fcc\",4)\n",
    "structure=AseAtomsAdaptor().get_structure(atoms)\n",
    "maker_fullopt=OptimizeJob()\n",
    "job1=maker_fullopt.make(structure=structure)\n",
    "job2=get_ev_curve(structure=job1.output[\"optimized_structure\"])\n",
    "job3=get_results_ev_curve(list_structures=job2.output[\"optimized_structures\"], list_energies=job2.output[\"energies\"])\n",
    "flow=Flow([job1,job2,job3],output=job3.output)\n",
    "\n",
    "response=run_locally(flow)\n",
    "print(response[flow.jobs[-1].uuid][1].output)"
   ]
  },
  {
   "cell_type": "markdown",
   "metadata": {},
   "source": [
    "You have seen all basic functionalities to write workflows with jobflow. You can also transfer these workflows to [Fireworks](https://materialsproject.github.io/atomate2/user/fireworks.html) to run the jobs in parallel and/or on a cluster."
   ]
  },
  {
   "cell_type": "markdown",
   "metadata": {},
   "source": [
    "### Exercise\n",
    "Please build a large maker for the whole workflow! You can find an example here: [https://github.com/materialsproject/atomate2/blob/main/src/atomate2/vasp/flows/lobster.py](https://github.com/materialsproject/atomate2/blob/main/src/atomate2/vasp/flows/lobster.py)\n",
    "\n",
    "Then, apply it to different structures and elements: e.g., Al or other elements that work with EMT."
   ]
  },
  {
   "cell_type": "markdown",
   "metadata": {},
   "source": [
    "# Phonon workflow"
   ]
  },
  {
   "cell_type": "markdown",
   "metadata": {},
   "source": [
    "We will now write a tiny workflow to compute phonons with Phonopy. We will only compute phonon densities of states and not band structures as finding relevant points in reciprocal space is possible but a lot of work to implement. If you would like to try this, you are invited to have fun with pymatgen. Again, we will use the EMT calculator to speed up calculations."
   ]
  },
  {
   "cell_type": "markdown",
   "metadata": {},
   "source": [
    "We will compute phonons with the finite differences approach. You can check out this reference in case you are interested: [https://onlinelibrary.wiley.com/doi/10.1002/anie.200906780](https://onlinelibrary.wiley.com/doi/10.1002/anie.200906780). We will optimize the crystal structure, then generate displaced structures. This will allow to compute force constants for the whole unit cell. Those force constants can then be fouriertransformed to a dynamical matrix that allows us to get frequencies and eigenvalues describing the vibrations in the crystal structure."
   ]
  },
  {
   "cell_type": "markdown",
   "metadata": {},
   "source": [
    "![workflow for phonons](workflow2.png)"
   ]
  },
  {
   "cell_type": "markdown",
   "metadata": {},
   "source": [
    "For phonon runs, we need an additional static job that just returns forces based on the structure. We can reuse the optimization. But first, we will install phonopy. Phonopy will create all displacements that we need according to symmetry and can also do all the annoying computations that are just a pain to reimplement. There are also some modules in ase for phonons but they don't handle symmetry that well so far!"
   ]
  },
  {
   "cell_type": "code",
   "execution_count": null,
   "metadata": {
    "ExecuteTime": {
     "start_time": "2023-04-06T19:14:15.011479Z",
     "end_time": "2023-04-06T19:14:18.291312Z"
    }
   },
   "outputs": [],
   "source": [
    "%%capture\n",
    "!pip install phonopy"
   ]
  },
  {
   "cell_type": "markdown",
   "metadata": {},
   "source": [
    "Let's build a static job first. This time, we also need the forces ..."
   ]
  },
  {
   "cell_type": "code",
   "execution_count": null,
   "metadata": {
    "ExecuteTime": {
     "start_time": "2023-04-06T19:14:18.298972Z",
     "end_time": "2023-04-06T19:14:18.300318Z"
    }
   },
   "outputs": [],
   "source": [
    "@dataclass\n",
    "class StaticJob(Maker):\n",
    "    \"\"\"\n",
    "    Class to compute energy and forces for a structure\n",
    "\n",
    "    Parameters\n",
    "    ----------\n",
    "    name\n",
    "        Name of the job.\n",
    "    \"\"\"\n",
    "    name: str = \"EMT-StaticRun\"\n",
    "\n",
    "    @job\n",
    "    def make(self, structure: Structure):\n",
    "        adaptor = AseAtomsAdaptor()\n",
    "        atoms = adaptor.get_atoms(structure)\n",
    "        atoms.calc = EMT()\n",
    "        results = {}\n",
    "        results[\"input_structure\"] = structure\n",
    "        results[\"energy\"] = atoms.get_potential_energy()\n",
    "        results[\"force\"] = atoms.get_forces()\n",
    "        return results\n",
    "\n"
   ]
  },
  {
   "cell_type": "markdown",
   "metadata": {},
   "source": [
    "Now, we need to build jobs that will create displacements for the finite displacement method based on an optimized Structure, run all static runs and then collect the results. It's important to remember that you have to wait for a job to be executed before you can do something with the result in another job! You might be able to collect results from a job that will be run (e.g., put the result in a list but you are actually only collecting references) but you cannot perform any kind of numerical operation on it. You can only do this in the next job! The reference as to be resolved first!"
   ]
  },
  {
   "cell_type": "markdown",
   "metadata": {},
   "source": [
    "Let's start with the job that creates displacements:"
   ]
  },
  {
   "cell_type": "code",
   "execution_count": null,
   "metadata": {
    "ExecuteTime": {
     "start_time": "2023-04-06T19:14:18.305014Z",
     "end_time": "2023-04-06T19:14:18.373270Z"
    }
   },
   "outputs": [],
   "source": [
    "from phonopy import Phonopy\n",
    "from phonopy.units import VaspToTHz\n",
    "from pymatgen.io.phonopy import (\n",
    "    get_phonopy_structure,\n",
    "    get_pmg_structure,\n",
    ")\n",
    "\n",
    "\n",
    "@job\n",
    "def create_displacements(structure: Structure, supercell_matrix):\n",
    "    factor = VaspToTHz  # we need this conversion factor. We will rely on eV\n",
    "    cell = get_phonopy_structure(structure)  # this transforms the structure into a format that phonopy can use\n",
    "    phonon = Phonopy(\n",
    "        cell,\n",
    "        supercell_matrix,  # we need to compute forces for displaced supercells of our inital structure\n",
    "        factor=factor,\n",
    "    )\n",
    "    phonon.generate_displacements()  # phonopy will generate the displacements\n",
    "\n",
    "    supercells = phonon.supercells_with_displacements  # these are all displaced structures\n",
    "\n",
    "    displacements = []\n",
    "    for icell in supercells:\n",
    "        displacements.append(get_pmg_structure(icell))  # we will collect all structures in a pymatgen structure format\n",
    "\n",
    "    return displacements"
   ]
  },
  {
   "cell_type": "markdown",
   "metadata": {},
   "source": [
    "Now, we will generate static jobs for all of the generated structures"
   ]
  },
  {
   "cell_type": "code",
   "execution_count": null,
   "metadata": {
    "ExecuteTime": {
     "start_time": "2023-04-06T19:14:18.367707Z",
     "end_time": "2023-04-06T19:14:18.373799Z"
    }
   },
   "outputs": [],
   "source": [
    "@job\n",
    "def run_displacements(displacements):\n",
    "    static_maker=StaticJob()\n",
    "    runs=[]\n",
    "    forces=[]\n",
    "    for displacement in displacements:\n",
    "        displacement_run=static_maker.make(displacement)\n",
    "        forces.append(displacement_run.output[\"force\"]) # this is possible but you cannot transform the array to a numpy array yet as the static_maker jobs haven't been run yet!\n",
    "        runs.append(displacement_run)\n",
    "\n",
    "    output={\"forces\": forces} #we will collect all forces from the runs.\n",
    "\n",
    "    return Response(replace=Flow(runs, output))"
   ]
  },
  {
   "cell_type": "markdown",
   "metadata": {},
   "source": [
    "Now, we will write a job that evaluates all results. We again need to recreate the correct phonopy settings."
   ]
  },
  {
   "cell_type": "code",
   "execution_count": null,
   "metadata": {
    "ExecuteTime": {
     "start_time": "2023-04-06T19:14:18.378342Z",
     "end_time": "2023-04-06T19:14:18.597263Z"
    }
   },
   "outputs": [],
   "source": [
    "from pymatgen.phonon.plotter import PhononDosPlotter\n",
    "from pymatgen.io.phonopy import (\n",
    "    get_ph_dos\n",
    ")\n",
    "\n",
    "\n",
    "@job\n",
    "def summarize_phonopy_results(structure: Structure, forces, supercell_matrix, kpoints=[10, 10, 10]):\n",
    "    forces_set = []\n",
    "    for force in forces:\n",
    "        forces_set.append(np.array(force))\n",
    "\n",
    "    factor = VaspToTHz\n",
    "    cell = get_phonopy_structure(structure)\n",
    "    phonon = Phonopy(\n",
    "        cell,\n",
    "        supercell_matrix,\n",
    "        factor=factor,\n",
    "    )\n",
    "    phonon.generate_displacements()\n",
    "    phonon.produce_force_constants(forces=forces_set)\n",
    "    phonon.save(\"phonopy.yaml\")\n",
    "    phonon.run_mesh(kpoints)\n",
    "    phonon.run_total_dos()\n",
    "    phonon.write_total_dos(filename=\"phonon_dos.yaml\")\n",
    "    dos = get_ph_dos(\"phonon_dos.yaml\")\n",
    "    new_plotter_dos = PhononDosPlotter()\n",
    "    new_plotter_dos.add_dos(label=\"total\", dos=dos)\n",
    "    new_plotter_dos.save_plot(filename=\"phonon_dos.eps\")\n",
    "    return {\"PhononDOS\": dos}\n",
    "\n",
    "\n",
    "\n",
    "\n",
    "\n"
   ]
  },
  {
   "cell_type": "markdown",
   "metadata": {},
   "source": [
    "Now we connect the jobs with an optimzation"
   ]
  },
  {
   "cell_type": "code",
   "execution_count": null,
   "metadata": {
    "ExecuteTime": {
     "start_time": "2023-04-06T19:14:18.610166Z",
     "end_time": "2023-04-06T19:14:20.493379Z"
    }
   },
   "outputs": [],
   "source": [
    "from jobflow.managers.local import run_locally\n",
    "from jobflow import Flow\n",
    "from ase.build import bulk\n",
    "\n",
    "from pymatgen.io.ase import AseAtomsAdaptor\n",
    "from pymatgen.core.structure import Structure\n",
    "atoms=bulk(\"Ag\",\"fcc\",3.9)\n",
    "supercell_matrix=[[2,0,0],[0,2,0],[0,0,2]]\n",
    "structure=AseAtomsAdaptor().get_structure(atoms)\n",
    "maker_fullopt=OptimizeJob()\n",
    "job1=maker_fullopt.make(structure=structure)\n",
    "job2=create_displacements(structure=job1.output[\"optimized_structure\"], supercell_matrix=supercell_matrix)\n",
    "job3=run_displacements(displacements=job2.output)\n",
    "job4=summarize_phonopy_results(structure=job1.output[\"optimized_structure\"], forces=job3.output[\"forces\"], supercell_matrix=supercell_matrix)\n",
    "flow=Flow([job1,job2,job3,job4],output=job4.output)\n",
    "\n",
    "response=run_locally(flow)\n",
    "\n",
    "new_plotter_dos = PhononDosPlotter()\n",
    "new_plotter_dos.add_dos(label=\"total\", dos=response[flow.jobs[-1].uuid][1].output[\"PhononDOS\"])\n",
    "new_plotter_dos.show()\n",
    "\n"
   ]
  },
  {
   "cell_type": "markdown",
   "metadata": {},
   "source": [
    "## Exercise\n",
    "Again, plug the flow into a maker. Then, build an even larger maker including 3 phonon runs at the optimized volume, one with a volume that is 1% smaller and one with a volume that is 1% larger. This is a typical setting to compute Grüneisen parameters."
   ]
  },
  {
   "cell_type": "code",
   "execution_count": null,
   "metadata": {
    "ExecuteTime": {
     "start_time": "2023-04-06T19:14:20.493107Z",
     "end_time": "2023-04-06T19:14:20.497475Z"
    }
   },
   "outputs": [],
   "source": []
  }
 ],
 "metadata": {
  "kernelspec": {
   "display_name": "Python 3 (ipykernel)",
   "language": "python",
   "name": "python3"
  },
  "language_info": {
   "codemirror_mode": {
    "name": "ipython",
    "version": 3
   },
   "file_extension": ".py",
   "mimetype": "text/x-python",
   "name": "python",
   "nbconvert_exporter": "python",
   "pygments_lexer": "ipython3",
   "version": "3.10.10"
  }
 },
 "nbformat": 4,
 "nbformat_minor": 1
}
